{
 "cells": [
  {
   "cell_type": "code",
   "execution_count": 1,
   "id": "a61bcbf5",
   "metadata": {},
   "outputs": [],
   "source": [
    "import cv2"
   ]
  },
  {
   "cell_type": "markdown",
   "id": "823480c5",
   "metadata": {},
   "source": [
    "## Load Haarcascade Model for face detection"
   ]
  },
  {
   "cell_type": "code",
   "execution_count": 2,
   "id": "beb6a1a8",
   "metadata": {},
   "outputs": [],
   "source": [
    "facecascade = cv2.CascadeClassifier(\"haarcascade-frontalface-default.xml\")"
   ]
  },
  {
   "cell_type": "code",
   "execution_count": 3,
   "id": "f221b61b",
   "metadata": {},
   "outputs": [],
   "source": [
    "webcam = cv2.VideoCapture(0)\n",
    "\n",
    "while(True):\n",
    "    ret,frame = webcam.read()\n",
    "    gray = cv2.cvtColor(frame,cv2.COLOR_BGR2GRAY)\n",
    "    faces = facecascade.detectMultiScale(gray,scaleFactor=1.2,minNeighbors=5,\n",
    "                                        minSize=(20,20))\n",
    "    for (x,y,w,h) in faces:\n",
    "        cv2.rectangle(frame,(x,y),(x+w,y+h),(255,0,0),2)\n",
    "        roi = frame[y:y+h,x:x+w]\n",
    "    cv2.imshow('my_image',frame)\n",
    "    if cv2.waitKey(1) & 0xFF == ord('w'):\n",
    "        cv2.imwrite('myface.jpg', roi)\n",
    "    elif cv2.waitKey(1) & 0xFF == ord('q'):\n",
    "        break\n",
    "    else:\n",
    "        pass\n",
    "webcam.release()\n",
    "cv2.destroyAllWindows()"
   ]
  },
  {
   "cell_type": "markdown",
   "id": "e9115392",
   "metadata": {},
   "source": [
    "### Press w key to capture face and save as image\n",
    "### Press q key to quite"
   ]
  },
  {
   "cell_type": "markdown",
   "id": "30bca4c9",
   "metadata": {},
   "source": []
  }
 ],
 "metadata": {
  "kernelspec": {
   "display_name": "Python 3 (ipykernel)",
   "language": "python",
   "name": "python3"
  },
  "language_info": {
   "codemirror_mode": {
    "name": "ipython",
    "version": 3
   },
   "file_extension": ".py",
   "mimetype": "text/x-python",
   "name": "python",
   "nbconvert_exporter": "python",
   "pygments_lexer": "ipython3",
   "version": "3.10.4"
  }
 },
 "nbformat": 4,
 "nbformat_minor": 5
}
